{
  "nbformat": 4,
  "nbformat_minor": 0,
  "metadata": {
    "colab": {
      "provenance": []
    },
    "kernelspec": {
      "name": "python3",
      "display_name": "Python 3"
    },
    "language_info": {
      "name": "python"
    }
  },
  "cells": [
    {
      "cell_type": "code",
      "execution_count": null,
      "metadata": {
        "colab": {
          "base_uri": "https://localhost:8080/"
        },
        "id": "jl5pXKx_f0wS",
        "outputId": "716c69de-344d-49dd-e867-b850eb247e1d"
      },
      "outputs": [
        {
          "output_type": "stream",
          "name": "stdout",
          "text": [
            "array function: \n",
            "[1 2 3 4 5]\n",
            "\n",
            "asarray function: \n",
            "[1 2 3 4 5]\n",
            "[3 6 (7, 8, 9) {1, 2} list([4, 5])]\n",
            "\n",
            "shape function: \n",
            "(5,)\n",
            "\n",
            "size function: \n",
            "5\n",
            "\n",
            "n-dimensional array of zeroes and ones: \n",
            "[[0. 0. 0. 0.]\n",
            " [0. 0. 0. 0.]\n",
            " [0. 0. 0. 0.]]\n",
            "\n",
            "[[1 1 1 1]\n",
            " [1 1 1 1]\n",
            " [1 1 1 1]]\n",
            "\n",
            "full operation: \n",
            "[[5 5 5]\n",
            " [5 5 5]\n",
            " [5 5 5]]\n",
            "\n",
            "Getting an array of evenly spaced values with np.arrange and np.linspace: \n",
            "(array([ 1.  ,  3.25,  5.5 ,  7.75, 10.  ]), 2.25)\n",
            "\n",
            "[1 3 5 7 9]\n"
          ]
        },
        {
          "output_type": "stream",
          "name": "stderr",
          "text": [
            "<ipython-input-8-f31ee980c71f>:9: VisibleDeprecationWarning: Creating an ndarray from ragged nested sequences (which is a list-or-tuple of lists-or-tuples-or ndarrays with different lengths or shapes) is deprecated. If you meant to do this, you must specify 'dtype=object' when creating the ndarray.\n",
            "  print(np.asarray(b))\n"
          ]
        }
      ],
      "source": [
        "#Numpy Functions\n",
        "import numpy as np\n",
        "a = [1,2,3,4,5]\n",
        "print('array function: ')\n",
        "print(np.array(a))\n",
        "print()\n",
        "print('asarray function: ')\n",
        "b = [3,6,(7,8,9),{1,2},[4,5]]\n",
        "print(np.asarray(a))\n",
        "print(np.asarray(b))\n",
        "print()\n",
        "print('shape function: ')\n",
        "print(np.shape(a))\n",
        "print()\n",
        "print('size function: ')\n",
        "print(np.size(a))\n",
        "print()\n",
        "print('n-dimensional array of zeroes and ones: ')\n",
        "a1 = np.zeros((3,4), dtype = np.float16)\n",
        "print(a1)\n",
        "print()\n",
        "a2 = np.ones((3,4), dtype=np.int32)\n",
        "print(a2)\n",
        "print()\n",
        "print('full operation: ')\n",
        "a11 = np.full((3,3),5,dtype=np.int64)\n",
        "print(a11)\n",
        "print()\n",
        "print('Getting an array of evenly spaced values with np.arange and np.linspace: ')\n",
        "print(np.linspace(1,10,num=5,endpoint=True,retstep=True))\n",
        "print()\n",
        "print(np.arange(start=1,stop=10,step=2))"
      ]
    },
    {
      "cell_type": "code",
      "source": [
        "#Tensorflow Functions\n",
        "import tensorflow as tf\n",
        "print(tf.math.add(5,6))\n",
        "print(tf.math.multiply(2,3))\n",
        "print(tf.math.square(tf.math.add([1,2,3],[4,5,6])))\n",
        "print(tf.math.reduce_sum([1,2,3]))\n",
        "print()\n",
        "print('Matrix Multiplication: ')\n",
        "x = tf.linalg.matmul([[1, 2]], [[1,2],[1,2]])\n",
        "print(x)\n",
        "print(x.shape)\n",
        "print(x.dtype)"
      ],
      "metadata": {
        "colab": {
          "base_uri": "https://localhost:8080/"
        },
        "id": "NMqU2Mr_kH99",
        "outputId": "7217989d-da17-44df-f8d2-458d489abdd8"
      },
      "execution_count": null,
      "outputs": [
        {
          "output_type": "stream",
          "name": "stdout",
          "text": [
            "tf.Tensor(11, shape=(), dtype=int32)\n",
            "tf.Tensor(6, shape=(), dtype=int32)\n",
            "tf.Tensor([25 49 81], shape=(3,), dtype=int32)\n",
            "tf.Tensor(6, shape=(), dtype=int32)\n",
            "\n",
            "Matrix Multiplication: \n",
            "tf.Tensor([[3 6]], shape=(1, 2), dtype=int32)\n",
            "(1, 2)\n",
            "<dtype: 'int32'>\n"
          ]
        }
      ]
    },
    {
      "cell_type": "code",
      "source": [
        "import numpy as np\n",
        "import tensorflow as tf\n",
        "from tensorflow import keras\n",
        "#turning strings into sequences of integer word indices\n",
        "from tensorflow.keras.layers import TextVectorization\n",
        "training_data = np.array([[\"This is the school that calls itself a college\"], [\"The school is VCE, assumed to be the best college\"]])\n",
        "print(training_data)\n",
        "vectorizer = TextVectorization(output_mode=\"int\")\n",
        "vectorizer.adapt(training_data)\n",
        "integer_data = vectorizer(training_data)\n",
        "print(integer_data)"
      ],
      "metadata": {
        "colab": {
          "base_uri": "https://localhost:8080/"
        },
        "id": "I4P6Bn35oqXd",
        "outputId": "cfbc5a53-9178-4e98-84ae-dcd3b178a0aa"
      },
      "execution_count": null,
      "outputs": [
        {
          "output_type": "stream",
          "name": "stdout",
          "text": [
            "[['This is the school that calls itself a college']\n",
            " ['The school is VCE, assumed to be the best college']]\n",
            "tf.Tensor(\n",
            "[[ 8  4  2  3  9 11 10 15  5  0]\n",
            " [ 2  3  4  6 14  7 13  2 12  5]], shape=(2, 10), dtype=int64)\n"
          ]
        }
      ]
    },
    {
      "cell_type": "code",
      "source": [
        "from tensorflow.keras.layers import CenterCrop\n",
        "from tensorflow.keras.layers import Rescaling\n",
        "\n",
        "# Example image data, with values in the [0, 255] range\n",
        "training_data = np.random.randint(0, 256, size=(64, 200, 200, 3)).astype(\"float32\")\n",
        "\n",
        "cropper = CenterCrop(height=100, width=100)\n",
        "scaler = Rescaling(scale=1.0 / 255)\n",
        "\n",
        "output_data = scaler(cropper(training_data))\n",
        "print(\"shape:\", output_data.shape)\n",
        "print(\"min:\", np.min(output_data))\n",
        "print(\"max:\", np.max(output_data))"
      ],
      "metadata": {
        "colab": {
          "base_uri": "https://localhost:8080/"
        },
        "id": "C8BJ2hEipL2M",
        "outputId": "5780b3c0-f005-4f19-ec2e-ffa9a84fe803"
      },
      "execution_count": null,
      "outputs": [
        {
          "output_type": "stream",
          "name": "stdout",
          "text": [
            "shape: (64, 100, 100, 3)\n",
            "min: 0.0\n",
            "max: 1.0\n"
          ]
        }
      ]
    },
    {
      "cell_type": "code",
      "source": [
        "#PyTorch Operations\n",
        "import torch\n",
        "x = torch.Tensor(2, 3)  # An un-initialized Tensor object. x holds garbage data.\n",
        "y = torch.rand(2, 3)    # Initialize with random values\n",
        "z1 = x + y\n",
        "print(z1)\n",
        "print(torch.add(x, y))\n",
        "print()\n",
        "x1 = torch.rand(2, 3)\n",
        "y1 = torch.rand(2, 3)    # Initialize with random values\n",
        "# Operations\n",
        "z2 = x1 + y1\n",
        "print(z2)\n",
        "print(torch.add(x, y))\n",
        "print()\n",
        "#Conversion from NumPy array to Tensor\n",
        "a = np.array([1, 2, 3])\n",
        "print(torch.from_numpy(a))\n",
        "print()\n",
        "print(torch.randperm(4))\n",
        "print()\n",
        "print(torch.ones(10))\n",
        "print()\n",
        "print(torch.ones(2,1))\n",
        "print()\n",
        "print(torch.zeros(10))\n",
        "print()\n",
        "eyes = torch.eye(3)\n",
        "print(torch.ones_like(eyes))"
      ],
      "metadata": {
        "colab": {
          "base_uri": "https://localhost:8080/"
        },
        "id": "rXkLLQlOvTLd",
        "outputId": "997be306-7cfb-4138-9e6f-c318ff9aa492"
      },
      "execution_count": null,
      "outputs": [
        {
          "output_type": "stream",
          "name": "stdout",
          "text": [
            "tensor([[0.2506, 0.7714, 0.6308],\n",
            "        [0.2307, 0.1194, 0.3276]])\n",
            "tensor([[0.2506, 0.7714, 0.6308],\n",
            "        [0.2307, 0.1194, 0.3276]])\n",
            "\n",
            "tensor([[0.6841, 1.1355, 1.4719],\n",
            "        [0.4686, 0.7837, 1.0870]])\n",
            "tensor([[0.2506, 0.7714, 0.6308],\n",
            "        [0.2307, 0.1194, 0.3276]])\n",
            "\n",
            "tensor([1, 2, 3])\n",
            "\n",
            "tensor([2, 3, 1, 0])\n",
            "\n",
            "tensor([1., 1., 1., 1., 1., 1., 1., 1., 1., 1.])\n",
            "\n",
            "tensor([[1.],\n",
            "        [1.]])\n",
            "\n",
            "tensor([0., 0., 0., 0., 0., 0., 0., 0., 0., 0.])\n",
            "\n",
            "tensor([[1., 1., 1.],\n",
            "        [1., 1., 1.],\n",
            "        [1., 1., 1.]])\n"
          ]
        }
      ]
    }
  ]
}